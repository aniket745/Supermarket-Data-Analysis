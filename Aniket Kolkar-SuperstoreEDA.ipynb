{
 "cells": [
  {
   "cell_type": "markdown",
   "metadata": {},
   "source": [
    "# Supermarket Data Analysis"
   ]
  },
  {
   "cell_type": "markdown",
   "metadata": {},
   "source": [
    "## Introduction of Problem Statement"
   ]
  },
  {
   "cell_type": "markdown",
   "metadata": {},
   "source": [
    "AJ Ecom Pvt Ltd is one of the leading business who have supermarkets across different regions of India. They want to understand the performance of their supermarket in terms of customers, products and its sale."
   ]
  },
  {
   "cell_type": "markdown",
   "metadata": {},
   "source": [
    "### Reading the given dataset"
   ]
  },
  {
   "cell_type": "code",
   "execution_count": 1,
   "metadata": {},
   "outputs": [],
   "source": [
    "import pandas as pd\n",
    "import numpy as np\n",
    "import matplotlib.pyplot as plt\n",
    "import seaborn as sns"
   ]
  },
  {
   "cell_type": "code",
   "execution_count": 2,
   "metadata": {},
   "outputs": [],
   "source": [
    "import warnings\n",
    "warnings.filterwarnings(\"ignore\")"
   ]
  },
  {
   "cell_type": "code",
   "execution_count": 3,
   "metadata": {},
   "outputs": [],
   "source": [
    "df_tran = pd.read_csv('Transactions.csv')"
   ]
  },
  {
   "cell_type": "code",
   "execution_count": 4,
   "metadata": {},
   "outputs": [
    {
     "data": {
      "text/html": [
       "<div>\n",
       "<style scoped>\n",
       "    .dataframe tbody tr th:only-of-type {\n",
       "        vertical-align: middle;\n",
       "    }\n",
       "\n",
       "    .dataframe tbody tr th {\n",
       "        vertical-align: top;\n",
       "    }\n",
       "\n",
       "    .dataframe thead th {\n",
       "        text-align: right;\n",
       "    }\n",
       "</style>\n",
       "<table border=\"1\" class=\"dataframe\">\n",
       "  <thead>\n",
       "    <tr style=\"text-align: right;\">\n",
       "      <th></th>\n",
       "      <th>transaction_id</th>\n",
       "      <th>cust_id</th>\n",
       "      <th>tran_date</th>\n",
       "      <th>prod_subcat_code</th>\n",
       "      <th>prod_cat_code</th>\n",
       "      <th>Qty</th>\n",
       "      <th>Rate</th>\n",
       "      <th>Tax</th>\n",
       "      <th>total_amt</th>\n",
       "      <th>Store_type</th>\n",
       "    </tr>\n",
       "  </thead>\n",
       "  <tbody>\n",
       "    <tr>\n",
       "      <th>0</th>\n",
       "      <td>80712190438</td>\n",
       "      <td>270351</td>\n",
       "      <td>28-02-2014</td>\n",
       "      <td>1</td>\n",
       "      <td>1</td>\n",
       "      <td>-5</td>\n",
       "      <td>-772</td>\n",
       "      <td>405.300</td>\n",
       "      <td>-4265.300</td>\n",
       "      <td>e-Shop</td>\n",
       "    </tr>\n",
       "    <tr>\n",
       "      <th>1</th>\n",
       "      <td>29258453508</td>\n",
       "      <td>270384</td>\n",
       "      <td>27-02-2014</td>\n",
       "      <td>5</td>\n",
       "      <td>3</td>\n",
       "      <td>-5</td>\n",
       "      <td>-1497</td>\n",
       "      <td>785.925</td>\n",
       "      <td>-8270.925</td>\n",
       "      <td>e-Shop</td>\n",
       "    </tr>\n",
       "    <tr>\n",
       "      <th>2</th>\n",
       "      <td>51750724947</td>\n",
       "      <td>273420</td>\n",
       "      <td>24-02-2014</td>\n",
       "      <td>6</td>\n",
       "      <td>5</td>\n",
       "      <td>-2</td>\n",
       "      <td>-791</td>\n",
       "      <td>166.110</td>\n",
       "      <td>-1748.110</td>\n",
       "      <td>TeleShop</td>\n",
       "    </tr>\n",
       "    <tr>\n",
       "      <th>3</th>\n",
       "      <td>93274880719</td>\n",
       "      <td>271509</td>\n",
       "      <td>24-02-2014</td>\n",
       "      <td>11</td>\n",
       "      <td>6</td>\n",
       "      <td>-3</td>\n",
       "      <td>-1363</td>\n",
       "      <td>429.345</td>\n",
       "      <td>-4518.345</td>\n",
       "      <td>e-Shop</td>\n",
       "    </tr>\n",
       "    <tr>\n",
       "      <th>4</th>\n",
       "      <td>51750724947</td>\n",
       "      <td>273420</td>\n",
       "      <td>23-02-2014</td>\n",
       "      <td>6</td>\n",
       "      <td>5</td>\n",
       "      <td>-2</td>\n",
       "      <td>-791</td>\n",
       "      <td>166.110</td>\n",
       "      <td>-1748.110</td>\n",
       "      <td>TeleShop</td>\n",
       "    </tr>\n",
       "    <tr>\n",
       "      <th>...</th>\n",
       "      <td>...</td>\n",
       "      <td>...</td>\n",
       "      <td>...</td>\n",
       "      <td>...</td>\n",
       "      <td>...</td>\n",
       "      <td>...</td>\n",
       "      <td>...</td>\n",
       "      <td>...</td>\n",
       "      <td>...</td>\n",
       "      <td>...</td>\n",
       "    </tr>\n",
       "    <tr>\n",
       "      <th>23048</th>\n",
       "      <td>94340757522</td>\n",
       "      <td>274550</td>\n",
       "      <td>25-01-2011</td>\n",
       "      <td>12</td>\n",
       "      <td>5</td>\n",
       "      <td>1</td>\n",
       "      <td>1264</td>\n",
       "      <td>132.720</td>\n",
       "      <td>1396.720</td>\n",
       "      <td>e-Shop</td>\n",
       "    </tr>\n",
       "    <tr>\n",
       "      <th>23049</th>\n",
       "      <td>89780862956</td>\n",
       "      <td>270022</td>\n",
       "      <td>25-01-2011</td>\n",
       "      <td>4</td>\n",
       "      <td>1</td>\n",
       "      <td>1</td>\n",
       "      <td>677</td>\n",
       "      <td>71.085</td>\n",
       "      <td>748.085</td>\n",
       "      <td>e-Shop</td>\n",
       "    </tr>\n",
       "    <tr>\n",
       "      <th>23050</th>\n",
       "      <td>85115299378</td>\n",
       "      <td>271020</td>\n",
       "      <td>25-01-2011</td>\n",
       "      <td>2</td>\n",
       "      <td>6</td>\n",
       "      <td>4</td>\n",
       "      <td>1052</td>\n",
       "      <td>441.840</td>\n",
       "      <td>4649.840</td>\n",
       "      <td>MBR</td>\n",
       "    </tr>\n",
       "    <tr>\n",
       "      <th>23051</th>\n",
       "      <td>72870271171</td>\n",
       "      <td>270911</td>\n",
       "      <td>25-01-2011</td>\n",
       "      <td>11</td>\n",
       "      <td>5</td>\n",
       "      <td>3</td>\n",
       "      <td>1142</td>\n",
       "      <td>359.730</td>\n",
       "      <td>3785.730</td>\n",
       "      <td>TeleShop</td>\n",
       "    </tr>\n",
       "    <tr>\n",
       "      <th>23052</th>\n",
       "      <td>77960931771</td>\n",
       "      <td>271961</td>\n",
       "      <td>25-01-2011</td>\n",
       "      <td>11</td>\n",
       "      <td>5</td>\n",
       "      <td>1</td>\n",
       "      <td>447</td>\n",
       "      <td>46.935</td>\n",
       "      <td>493.935</td>\n",
       "      <td>TeleShop</td>\n",
       "    </tr>\n",
       "  </tbody>\n",
       "</table>\n",
       "<p>23053 rows × 10 columns</p>\n",
       "</div>"
      ],
      "text/plain": [
       "       transaction_id  cust_id   tran_date  prod_subcat_code  prod_cat_code  \\\n",
       "0         80712190438   270351  28-02-2014                 1              1   \n",
       "1         29258453508   270384  27-02-2014                 5              3   \n",
       "2         51750724947   273420  24-02-2014                 6              5   \n",
       "3         93274880719   271509  24-02-2014                11              6   \n",
       "4         51750724947   273420  23-02-2014                 6              5   \n",
       "...               ...      ...         ...               ...            ...   \n",
       "23048     94340757522   274550  25-01-2011                12              5   \n",
       "23049     89780862956   270022  25-01-2011                 4              1   \n",
       "23050     85115299378   271020  25-01-2011                 2              6   \n",
       "23051     72870271171   270911  25-01-2011                11              5   \n",
       "23052     77960931771   271961  25-01-2011                11              5   \n",
       "\n",
       "       Qty  Rate      Tax  total_amt Store_type  \n",
       "0       -5  -772  405.300  -4265.300     e-Shop  \n",
       "1       -5 -1497  785.925  -8270.925     e-Shop  \n",
       "2       -2  -791  166.110  -1748.110   TeleShop  \n",
       "3       -3 -1363  429.345  -4518.345     e-Shop  \n",
       "4       -2  -791  166.110  -1748.110   TeleShop  \n",
       "...    ...   ...      ...        ...        ...  \n",
       "23048    1  1264  132.720   1396.720     e-Shop  \n",
       "23049    1   677   71.085    748.085     e-Shop  \n",
       "23050    4  1052  441.840   4649.840        MBR  \n",
       "23051    3  1142  359.730   3785.730   TeleShop  \n",
       "23052    1   447   46.935    493.935   TeleShop  \n",
       "\n",
       "[23053 rows x 10 columns]"
      ]
     },
     "execution_count": 4,
     "metadata": {},
     "output_type": "execute_result"
    }
   ],
   "source": [
    "df_tran"
   ]
  },
  {
   "cell_type": "code",
   "execution_count": 5,
   "metadata": {},
   "outputs": [],
   "source": [
    "df_cust = pd.read_csv('Customer.csv')"
   ]
  },
  {
   "cell_type": "code",
   "execution_count": 6,
   "metadata": {},
   "outputs": [
    {
     "data": {
      "text/html": [
       "<div>\n",
       "<style scoped>\n",
       "    .dataframe tbody tr th:only-of-type {\n",
       "        vertical-align: middle;\n",
       "    }\n",
       "\n",
       "    .dataframe tbody tr th {\n",
       "        vertical-align: top;\n",
       "    }\n",
       "\n",
       "    .dataframe thead th {\n",
       "        text-align: right;\n",
       "    }\n",
       "</style>\n",
       "<table border=\"1\" class=\"dataframe\">\n",
       "  <thead>\n",
       "    <tr style=\"text-align: right;\">\n",
       "      <th></th>\n",
       "      <th>customer_Id</th>\n",
       "      <th>DOB</th>\n",
       "      <th>Gender</th>\n",
       "      <th>city_code</th>\n",
       "    </tr>\n",
       "  </thead>\n",
       "  <tbody>\n",
       "    <tr>\n",
       "      <th>0</th>\n",
       "      <td>268408</td>\n",
       "      <td>02-01-1970</td>\n",
       "      <td>M</td>\n",
       "      <td>4.0</td>\n",
       "    </tr>\n",
       "    <tr>\n",
       "      <th>1</th>\n",
       "      <td>269696</td>\n",
       "      <td>07-01-1970</td>\n",
       "      <td>F</td>\n",
       "      <td>8.0</td>\n",
       "    </tr>\n",
       "    <tr>\n",
       "      <th>2</th>\n",
       "      <td>268159</td>\n",
       "      <td>08-01-1970</td>\n",
       "      <td>F</td>\n",
       "      <td>8.0</td>\n",
       "    </tr>\n",
       "    <tr>\n",
       "      <th>3</th>\n",
       "      <td>270181</td>\n",
       "      <td>10-01-1970</td>\n",
       "      <td>F</td>\n",
       "      <td>2.0</td>\n",
       "    </tr>\n",
       "    <tr>\n",
       "      <th>4</th>\n",
       "      <td>268073</td>\n",
       "      <td>11-01-1970</td>\n",
       "      <td>M</td>\n",
       "      <td>1.0</td>\n",
       "    </tr>\n",
       "    <tr>\n",
       "      <th>...</th>\n",
       "      <td>...</td>\n",
       "      <td>...</td>\n",
       "      <td>...</td>\n",
       "      <td>...</td>\n",
       "    </tr>\n",
       "    <tr>\n",
       "      <th>5642</th>\n",
       "      <td>274474</td>\n",
       "      <td>19-12-1992</td>\n",
       "      <td>M</td>\n",
       "      <td>2.0</td>\n",
       "    </tr>\n",
       "    <tr>\n",
       "      <th>5643</th>\n",
       "      <td>267666</td>\n",
       "      <td>24-12-1992</td>\n",
       "      <td>M</td>\n",
       "      <td>6.0</td>\n",
       "    </tr>\n",
       "    <tr>\n",
       "      <th>5644</th>\n",
       "      <td>270476</td>\n",
       "      <td>25-12-1992</td>\n",
       "      <td>F</td>\n",
       "      <td>3.0</td>\n",
       "    </tr>\n",
       "    <tr>\n",
       "      <th>5645</th>\n",
       "      <td>269626</td>\n",
       "      <td>27-12-1992</td>\n",
       "      <td>F</td>\n",
       "      <td>5.0</td>\n",
       "    </tr>\n",
       "    <tr>\n",
       "      <th>5646</th>\n",
       "      <td>274308</td>\n",
       "      <td>29-12-1992</td>\n",
       "      <td>F</td>\n",
       "      <td>5.0</td>\n",
       "    </tr>\n",
       "  </tbody>\n",
       "</table>\n",
       "<p>5647 rows × 4 columns</p>\n",
       "</div>"
      ],
      "text/plain": [
       "      customer_Id         DOB Gender  city_code\n",
       "0          268408  02-01-1970      M        4.0\n",
       "1          269696  07-01-1970      F        8.0\n",
       "2          268159  08-01-1970      F        8.0\n",
       "3          270181  10-01-1970      F        2.0\n",
       "4          268073  11-01-1970      M        1.0\n",
       "...           ...         ...    ...        ...\n",
       "5642       274474  19-12-1992      M        2.0\n",
       "5643       267666  24-12-1992      M        6.0\n",
       "5644       270476  25-12-1992      F        3.0\n",
       "5645       269626  27-12-1992      F        5.0\n",
       "5646       274308  29-12-1992      F        5.0\n",
       "\n",
       "[5647 rows x 4 columns]"
      ]
     },
     "execution_count": 6,
     "metadata": {},
     "output_type": "execute_result"
    }
   ],
   "source": [
    "df_cust"
   ]
  },
  {
   "cell_type": "code",
   "execution_count": 7,
   "metadata": {},
   "outputs": [],
   "source": [
    "df_prod_cat = pd.read_csv('prod_cat_info.csv')"
   ]
  },
  {
   "cell_type": "code",
   "execution_count": 8,
   "metadata": {},
   "outputs": [
    {
     "data": {
      "text/html": [
       "<div>\n",
       "<style scoped>\n",
       "    .dataframe tbody tr th:only-of-type {\n",
       "        vertical-align: middle;\n",
       "    }\n",
       "\n",
       "    .dataframe tbody tr th {\n",
       "        vertical-align: top;\n",
       "    }\n",
       "\n",
       "    .dataframe thead th {\n",
       "        text-align: right;\n",
       "    }\n",
       "</style>\n",
       "<table border=\"1\" class=\"dataframe\">\n",
       "  <thead>\n",
       "    <tr style=\"text-align: right;\">\n",
       "      <th></th>\n",
       "      <th>prod_cat_code</th>\n",
       "      <th>prod_cat</th>\n",
       "      <th>prod_sub_cat_code</th>\n",
       "      <th>prod_subcat</th>\n",
       "    </tr>\n",
       "  </thead>\n",
       "  <tbody>\n",
       "    <tr>\n",
       "      <th>0</th>\n",
       "      <td>1</td>\n",
       "      <td>Clothing</td>\n",
       "      <td>4</td>\n",
       "      <td>Mens</td>\n",
       "    </tr>\n",
       "    <tr>\n",
       "      <th>1</th>\n",
       "      <td>1</td>\n",
       "      <td>Clothing</td>\n",
       "      <td>1</td>\n",
       "      <td>Women</td>\n",
       "    </tr>\n",
       "    <tr>\n",
       "      <th>2</th>\n",
       "      <td>1</td>\n",
       "      <td>Clothing</td>\n",
       "      <td>3</td>\n",
       "      <td>Kids</td>\n",
       "    </tr>\n",
       "    <tr>\n",
       "      <th>3</th>\n",
       "      <td>2</td>\n",
       "      <td>Footwear</td>\n",
       "      <td>1</td>\n",
       "      <td>Mens</td>\n",
       "    </tr>\n",
       "    <tr>\n",
       "      <th>4</th>\n",
       "      <td>2</td>\n",
       "      <td>Footwear</td>\n",
       "      <td>3</td>\n",
       "      <td>Women</td>\n",
       "    </tr>\n",
       "    <tr>\n",
       "      <th>5</th>\n",
       "      <td>2</td>\n",
       "      <td>Footwear</td>\n",
       "      <td>4</td>\n",
       "      <td>Kids</td>\n",
       "    </tr>\n",
       "    <tr>\n",
       "      <th>6</th>\n",
       "      <td>3</td>\n",
       "      <td>Electronics</td>\n",
       "      <td>4</td>\n",
       "      <td>Mobiles</td>\n",
       "    </tr>\n",
       "    <tr>\n",
       "      <th>7</th>\n",
       "      <td>3</td>\n",
       "      <td>Electronics</td>\n",
       "      <td>5</td>\n",
       "      <td>Computers</td>\n",
       "    </tr>\n",
       "    <tr>\n",
       "      <th>8</th>\n",
       "      <td>3</td>\n",
       "      <td>Electronics</td>\n",
       "      <td>8</td>\n",
       "      <td>Personal Appliances</td>\n",
       "    </tr>\n",
       "    <tr>\n",
       "      <th>9</th>\n",
       "      <td>3</td>\n",
       "      <td>Electronics</td>\n",
       "      <td>9</td>\n",
       "      <td>Cameras</td>\n",
       "    </tr>\n",
       "    <tr>\n",
       "      <th>10</th>\n",
       "      <td>3</td>\n",
       "      <td>Electronics</td>\n",
       "      <td>10</td>\n",
       "      <td>Audio and video</td>\n",
       "    </tr>\n",
       "    <tr>\n",
       "      <th>11</th>\n",
       "      <td>4</td>\n",
       "      <td>Bags</td>\n",
       "      <td>1</td>\n",
       "      <td>Mens</td>\n",
       "    </tr>\n",
       "    <tr>\n",
       "      <th>12</th>\n",
       "      <td>4</td>\n",
       "      <td>Bags</td>\n",
       "      <td>4</td>\n",
       "      <td>Women</td>\n",
       "    </tr>\n",
       "    <tr>\n",
       "      <th>13</th>\n",
       "      <td>5</td>\n",
       "      <td>Books</td>\n",
       "      <td>7</td>\n",
       "      <td>Fiction</td>\n",
       "    </tr>\n",
       "    <tr>\n",
       "      <th>14</th>\n",
       "      <td>5</td>\n",
       "      <td>Books</td>\n",
       "      <td>12</td>\n",
       "      <td>Academic</td>\n",
       "    </tr>\n",
       "    <tr>\n",
       "      <th>15</th>\n",
       "      <td>5</td>\n",
       "      <td>Books</td>\n",
       "      <td>10</td>\n",
       "      <td>Non-Fiction</td>\n",
       "    </tr>\n",
       "    <tr>\n",
       "      <th>16</th>\n",
       "      <td>5</td>\n",
       "      <td>Books</td>\n",
       "      <td>11</td>\n",
       "      <td>Children</td>\n",
       "    </tr>\n",
       "    <tr>\n",
       "      <th>17</th>\n",
       "      <td>5</td>\n",
       "      <td>Books</td>\n",
       "      <td>3</td>\n",
       "      <td>Comics</td>\n",
       "    </tr>\n",
       "    <tr>\n",
       "      <th>18</th>\n",
       "      <td>5</td>\n",
       "      <td>Books</td>\n",
       "      <td>6</td>\n",
       "      <td>DIY</td>\n",
       "    </tr>\n",
       "    <tr>\n",
       "      <th>19</th>\n",
       "      <td>6</td>\n",
       "      <td>Home and kitchen</td>\n",
       "      <td>2</td>\n",
       "      <td>Furnishing</td>\n",
       "    </tr>\n",
       "    <tr>\n",
       "      <th>20</th>\n",
       "      <td>6</td>\n",
       "      <td>Home and kitchen</td>\n",
       "      <td>10</td>\n",
       "      <td>Kitchen</td>\n",
       "    </tr>\n",
       "    <tr>\n",
       "      <th>21</th>\n",
       "      <td>6</td>\n",
       "      <td>Home and kitchen</td>\n",
       "      <td>11</td>\n",
       "      <td>Bath</td>\n",
       "    </tr>\n",
       "    <tr>\n",
       "      <th>22</th>\n",
       "      <td>6</td>\n",
       "      <td>Home and kitchen</td>\n",
       "      <td>12</td>\n",
       "      <td>Tools</td>\n",
       "    </tr>\n",
       "  </tbody>\n",
       "</table>\n",
       "</div>"
      ],
      "text/plain": [
       "    prod_cat_code          prod_cat  prod_sub_cat_code          prod_subcat\n",
       "0               1          Clothing                  4                 Mens\n",
       "1               1          Clothing                  1                Women\n",
       "2               1          Clothing                  3                 Kids\n",
       "3               2          Footwear                  1                 Mens\n",
       "4               2          Footwear                  3                Women\n",
       "5               2          Footwear                  4                 Kids\n",
       "6               3       Electronics                  4              Mobiles\n",
       "7               3       Electronics                  5            Computers\n",
       "8               3       Electronics                  8  Personal Appliances\n",
       "9               3       Electronics                  9              Cameras\n",
       "10              3       Electronics                 10      Audio and video\n",
       "11              4              Bags                  1                 Mens\n",
       "12              4              Bags                  4                Women\n",
       "13              5             Books                  7              Fiction\n",
       "14              5             Books                 12             Academic\n",
       "15              5             Books                 10          Non-Fiction\n",
       "16              5             Books                 11             Children\n",
       "17              5             Books                  3               Comics\n",
       "18              5             Books                  6                  DIY\n",
       "19              6  Home and kitchen                  2           Furnishing\n",
       "20              6  Home and kitchen                 10              Kitchen\n",
       "21              6  Home and kitchen                 11                 Bath\n",
       "22              6  Home and kitchen                 12                Tools"
      ]
     },
     "execution_count": 8,
     "metadata": {},
     "output_type": "execute_result"
    }
   ],
   "source": [
    "df_prod_cat"
   ]
  },
  {
   "cell_type": "markdown",
   "metadata": {},
   "source": [
    "## Data Cleaning"
   ]
  },
  {
   "cell_type": "markdown",
   "metadata": {},
   "source": [
    "Dropping unnecessary columns"
   ]
  },
  {
   "cell_type": "code",
   "execution_count": 9,
   "metadata": {},
   "outputs": [],
   "source": [
    "df_cust = df_cust.drop('city_code',axis=1)"
   ]
  },
  {
   "cell_type": "markdown",
   "metadata": {},
   "source": [
    "Renaming the columns"
   ]
  },
  {
   "cell_type": "code",
   "execution_count": 10,
   "metadata": {},
   "outputs": [],
   "source": [
    "df_tran = df_tran.rename(columns = {'Qty':'qty','Rate':'rate','Tax':'tax','Store_type':'store_type'})"
   ]
  },
  {
   "cell_type": "code",
   "execution_count": 11,
   "metadata": {},
   "outputs": [],
   "source": [
    "df_cust = df_cust.rename(columns = {'customer_Id':'cust_id','DOB':'cust_dob','Gender':'cust_gender'})"
   ]
  },
  {
   "cell_type": "code",
   "execution_count": 12,
   "metadata": {},
   "outputs": [
    {
     "data": {
      "text/html": [
       "<div>\n",
       "<style scoped>\n",
       "    .dataframe tbody tr th:only-of-type {\n",
       "        vertical-align: middle;\n",
       "    }\n",
       "\n",
       "    .dataframe tbody tr th {\n",
       "        vertical-align: top;\n",
       "    }\n",
       "\n",
       "    .dataframe thead th {\n",
       "        text-align: right;\n",
       "    }\n",
       "</style>\n",
       "<table border=\"1\" class=\"dataframe\">\n",
       "  <thead>\n",
       "    <tr style=\"text-align: right;\">\n",
       "      <th></th>\n",
       "      <th>cust_id</th>\n",
       "      <th>cust_dob</th>\n",
       "      <th>cust_gender</th>\n",
       "    </tr>\n",
       "  </thead>\n",
       "  <tbody>\n",
       "    <tr>\n",
       "      <th>0</th>\n",
       "      <td>268408</td>\n",
       "      <td>02-01-1970</td>\n",
       "      <td>M</td>\n",
       "    </tr>\n",
       "    <tr>\n",
       "      <th>1</th>\n",
       "      <td>269696</td>\n",
       "      <td>07-01-1970</td>\n",
       "      <td>F</td>\n",
       "    </tr>\n",
       "    <tr>\n",
       "      <th>2</th>\n",
       "      <td>268159</td>\n",
       "      <td>08-01-1970</td>\n",
       "      <td>F</td>\n",
       "    </tr>\n",
       "    <tr>\n",
       "      <th>3</th>\n",
       "      <td>270181</td>\n",
       "      <td>10-01-1970</td>\n",
       "      <td>F</td>\n",
       "    </tr>\n",
       "    <tr>\n",
       "      <th>4</th>\n",
       "      <td>268073</td>\n",
       "      <td>11-01-1970</td>\n",
       "      <td>M</td>\n",
       "    </tr>\n",
       "    <tr>\n",
       "      <th>...</th>\n",
       "      <td>...</td>\n",
       "      <td>...</td>\n",
       "      <td>...</td>\n",
       "    </tr>\n",
       "    <tr>\n",
       "      <th>5642</th>\n",
       "      <td>274474</td>\n",
       "      <td>19-12-1992</td>\n",
       "      <td>M</td>\n",
       "    </tr>\n",
       "    <tr>\n",
       "      <th>5643</th>\n",
       "      <td>267666</td>\n",
       "      <td>24-12-1992</td>\n",
       "      <td>M</td>\n",
       "    </tr>\n",
       "    <tr>\n",
       "      <th>5644</th>\n",
       "      <td>270476</td>\n",
       "      <td>25-12-1992</td>\n",
       "      <td>F</td>\n",
       "    </tr>\n",
       "    <tr>\n",
       "      <th>5645</th>\n",
       "      <td>269626</td>\n",
       "      <td>27-12-1992</td>\n",
       "      <td>F</td>\n",
       "    </tr>\n",
       "    <tr>\n",
       "      <th>5646</th>\n",
       "      <td>274308</td>\n",
       "      <td>29-12-1992</td>\n",
       "      <td>F</td>\n",
       "    </tr>\n",
       "  </tbody>\n",
       "</table>\n",
       "<p>5647 rows × 3 columns</p>\n",
       "</div>"
      ],
      "text/plain": [
       "      cust_id    cust_dob cust_gender\n",
       "0      268408  02-01-1970           M\n",
       "1      269696  07-01-1970           F\n",
       "2      268159  08-01-1970           F\n",
       "3      270181  10-01-1970           F\n",
       "4      268073  11-01-1970           M\n",
       "...       ...         ...         ...\n",
       "5642   274474  19-12-1992           M\n",
       "5643   267666  24-12-1992           M\n",
       "5644   270476  25-12-1992           F\n",
       "5645   269626  27-12-1992           F\n",
       "5646   274308  29-12-1992           F\n",
       "\n",
       "[5647 rows x 3 columns]"
      ]
     },
     "execution_count": 12,
     "metadata": {},
     "output_type": "execute_result"
    }
   ],
   "source": [
    "df_cust"
   ]
  },
  {
   "cell_type": "code",
   "execution_count": 13,
   "metadata": {},
   "outputs": [],
   "source": [
    "df_prod_cat = df_prod_cat.rename(columns = {'prod_sub_cat_code':'prod_subcat_code'})"
   ]
  },
  {
   "cell_type": "markdown",
   "metadata": {},
   "source": [
    "In transaction dataset, quantity, rate, total amount contain negative values. As we know it can't be negative. So we have to convert negative values in quantity, rate and total amount column into positive values."
   ]
  },
  {
   "cell_type": "code",
   "execution_count": 14,
   "metadata": {},
   "outputs": [],
   "source": [
    "x = []\n",
    "for value in df_tran['qty']:\n",
    "    if value<0:\n",
    "        x.append(-(value))\n",
    "    else:\n",
    "        x.append(value)\n",
    "df_tran['qty'] = pd.DataFrame(x)"
   ]
  },
  {
   "cell_type": "code",
   "execution_count": 15,
   "metadata": {},
   "outputs": [],
   "source": [
    "y = []\n",
    "for value in df_tran['rate']:\n",
    "    if value<0:\n",
    "        y.append(-(value))\n",
    "    else:\n",
    "        y.append(value)\n",
    "df_tran['rate'] = pd.DataFrame(y)"
   ]
  },
  {
   "cell_type": "code",
   "execution_count": 16,
   "metadata": {},
   "outputs": [],
   "source": [
    "z = []\n",
    "for value in df_tran['total_amt']:\n",
    "    if value<0:\n",
    "        z.append(-(value))\n",
    "    else:\n",
    "        z.append(value)\n",
    "df_tran['total_amt'] = pd.DataFrame(z)"
   ]
  },
  {
   "cell_type": "code",
   "execution_count": 17,
   "metadata": {},
   "outputs": [
    {
     "data": {
      "text/html": [
       "<div>\n",
       "<style scoped>\n",
       "    .dataframe tbody tr th:only-of-type {\n",
       "        vertical-align: middle;\n",
       "    }\n",
       "\n",
       "    .dataframe tbody tr th {\n",
       "        vertical-align: top;\n",
       "    }\n",
       "\n",
       "    .dataframe thead th {\n",
       "        text-align: right;\n",
       "    }\n",
       "</style>\n",
       "<table border=\"1\" class=\"dataframe\">\n",
       "  <thead>\n",
       "    <tr style=\"text-align: right;\">\n",
       "      <th></th>\n",
       "      <th>transaction_id</th>\n",
       "      <th>cust_id</th>\n",
       "      <th>tran_date</th>\n",
       "      <th>prod_subcat_code</th>\n",
       "      <th>prod_cat_code</th>\n",
       "      <th>qty</th>\n",
       "      <th>rate</th>\n",
       "      <th>tax</th>\n",
       "      <th>total_amt</th>\n",
       "      <th>store_type</th>\n",
       "    </tr>\n",
       "  </thead>\n",
       "  <tbody>\n",
       "    <tr>\n",
       "      <th>0</th>\n",
       "      <td>80712190438</td>\n",
       "      <td>270351</td>\n",
       "      <td>28-02-2014</td>\n",
       "      <td>1</td>\n",
       "      <td>1</td>\n",
       "      <td>5</td>\n",
       "      <td>772</td>\n",
       "      <td>405.300</td>\n",
       "      <td>4265.300</td>\n",
       "      <td>e-Shop</td>\n",
       "    </tr>\n",
       "    <tr>\n",
       "      <th>1</th>\n",
       "      <td>29258453508</td>\n",
       "      <td>270384</td>\n",
       "      <td>27-02-2014</td>\n",
       "      <td>5</td>\n",
       "      <td>3</td>\n",
       "      <td>5</td>\n",
       "      <td>1497</td>\n",
       "      <td>785.925</td>\n",
       "      <td>8270.925</td>\n",
       "      <td>e-Shop</td>\n",
       "    </tr>\n",
       "    <tr>\n",
       "      <th>2</th>\n",
       "      <td>51750724947</td>\n",
       "      <td>273420</td>\n",
       "      <td>24-02-2014</td>\n",
       "      <td>6</td>\n",
       "      <td>5</td>\n",
       "      <td>2</td>\n",
       "      <td>791</td>\n",
       "      <td>166.110</td>\n",
       "      <td>1748.110</td>\n",
       "      <td>TeleShop</td>\n",
       "    </tr>\n",
       "    <tr>\n",
       "      <th>3</th>\n",
       "      <td>93274880719</td>\n",
       "      <td>271509</td>\n",
       "      <td>24-02-2014</td>\n",
       "      <td>11</td>\n",
       "      <td>6</td>\n",
       "      <td>3</td>\n",
       "      <td>1363</td>\n",
       "      <td>429.345</td>\n",
       "      <td>4518.345</td>\n",
       "      <td>e-Shop</td>\n",
       "    </tr>\n",
       "    <tr>\n",
       "      <th>4</th>\n",
       "      <td>51750724947</td>\n",
       "      <td>273420</td>\n",
       "      <td>23-02-2014</td>\n",
       "      <td>6</td>\n",
       "      <td>5</td>\n",
       "      <td>2</td>\n",
       "      <td>791</td>\n",
       "      <td>166.110</td>\n",
       "      <td>1748.110</td>\n",
       "      <td>TeleShop</td>\n",
       "    </tr>\n",
       "    <tr>\n",
       "      <th>...</th>\n",
       "      <td>...</td>\n",
       "      <td>...</td>\n",
       "      <td>...</td>\n",
       "      <td>...</td>\n",
       "      <td>...</td>\n",
       "      <td>...</td>\n",
       "      <td>...</td>\n",
       "      <td>...</td>\n",
       "      <td>...</td>\n",
       "      <td>...</td>\n",
       "    </tr>\n",
       "    <tr>\n",
       "      <th>23048</th>\n",
       "      <td>94340757522</td>\n",
       "      <td>274550</td>\n",
       "      <td>25-01-2011</td>\n",
       "      <td>12</td>\n",
       "      <td>5</td>\n",
       "      <td>1</td>\n",
       "      <td>1264</td>\n",
       "      <td>132.720</td>\n",
       "      <td>1396.720</td>\n",
       "      <td>e-Shop</td>\n",
       "    </tr>\n",
       "    <tr>\n",
       "      <th>23049</th>\n",
       "      <td>89780862956</td>\n",
       "      <td>270022</td>\n",
       "      <td>25-01-2011</td>\n",
       "      <td>4</td>\n",
       "      <td>1</td>\n",
       "      <td>1</td>\n",
       "      <td>677</td>\n",
       "      <td>71.085</td>\n",
       "      <td>748.085</td>\n",
       "      <td>e-Shop</td>\n",
       "    </tr>\n",
       "    <tr>\n",
       "      <th>23050</th>\n",
       "      <td>85115299378</td>\n",
       "      <td>271020</td>\n",
       "      <td>25-01-2011</td>\n",
       "      <td>2</td>\n",
       "      <td>6</td>\n",
       "      <td>4</td>\n",
       "      <td>1052</td>\n",
       "      <td>441.840</td>\n",
       "      <td>4649.840</td>\n",
       "      <td>MBR</td>\n",
       "    </tr>\n",
       "    <tr>\n",
       "      <th>23051</th>\n",
       "      <td>72870271171</td>\n",
       "      <td>270911</td>\n",
       "      <td>25-01-2011</td>\n",
       "      <td>11</td>\n",
       "      <td>5</td>\n",
       "      <td>3</td>\n",
       "      <td>1142</td>\n",
       "      <td>359.730</td>\n",
       "      <td>3785.730</td>\n",
       "      <td>TeleShop</td>\n",
       "    </tr>\n",
       "    <tr>\n",
       "      <th>23052</th>\n",
       "      <td>77960931771</td>\n",
       "      <td>271961</td>\n",
       "      <td>25-01-2011</td>\n",
       "      <td>11</td>\n",
       "      <td>5</td>\n",
       "      <td>1</td>\n",
       "      <td>447</td>\n",
       "      <td>46.935</td>\n",
       "      <td>493.935</td>\n",
       "      <td>TeleShop</td>\n",
       "    </tr>\n",
       "  </tbody>\n",
       "</table>\n",
       "<p>23053 rows × 10 columns</p>\n",
       "</div>"
      ],
      "text/plain": [
       "       transaction_id  cust_id   tran_date  prod_subcat_code  prod_cat_code  \\\n",
       "0         80712190438   270351  28-02-2014                 1              1   \n",
       "1         29258453508   270384  27-02-2014                 5              3   \n",
       "2         51750724947   273420  24-02-2014                 6              5   \n",
       "3         93274880719   271509  24-02-2014                11              6   \n",
       "4         51750724947   273420  23-02-2014                 6              5   \n",
       "...               ...      ...         ...               ...            ...   \n",
       "23048     94340757522   274550  25-01-2011                12              5   \n",
       "23049     89780862956   270022  25-01-2011                 4              1   \n",
       "23050     85115299378   271020  25-01-2011                 2              6   \n",
       "23051     72870271171   270911  25-01-2011                11              5   \n",
       "23052     77960931771   271961  25-01-2011                11              5   \n",
       "\n",
       "       qty  rate      tax  total_amt store_type  \n",
       "0        5   772  405.300   4265.300     e-Shop  \n",
       "1        5  1497  785.925   8270.925     e-Shop  \n",
       "2        2   791  166.110   1748.110   TeleShop  \n",
       "3        3  1363  429.345   4518.345     e-Shop  \n",
       "4        2   791  166.110   1748.110   TeleShop  \n",
       "...    ...   ...      ...        ...        ...  \n",
       "23048    1  1264  132.720   1396.720     e-Shop  \n",
       "23049    1   677   71.085    748.085     e-Shop  \n",
       "23050    4  1052  441.840   4649.840        MBR  \n",
       "23051    3  1142  359.730   3785.730   TeleShop  \n",
       "23052    1   447   46.935    493.935   TeleShop  \n",
       "\n",
       "[23053 rows x 10 columns]"
      ]
     },
     "execution_count": 17,
     "metadata": {},
     "output_type": "execute_result"
    }
   ],
   "source": [
    "df_tran"
   ]
  },
  {
   "cell_type": "raw",
   "metadata": {},
   "source": [
    "Now all the negative values are converted into positive values."
   ]
  },
  {
   "cell_type": "markdown",
   "metadata": {},
   "source": [
    "In customer table, DOB of customer is given. Using this field we can calculate age of customer."
   ]
  },
  {
   "cell_type": "code",
   "execution_count": 18,
   "metadata": {},
   "outputs": [],
   "source": [
    "df_cust['cust_dob'] = pd.to_datetime(df_cust['cust_dob'])\n",
    "\n",
    "df_cust['cust_age'] = df_cust['cust_dob'].apply(lambda x : (pd.datetime.now().year - x.year))"
   ]
  },
  {
   "cell_type": "markdown",
   "metadata": {},
   "source": [
    "Dropping customers dob column."
   ]
  },
  {
   "cell_type": "code",
   "execution_count": 19,
   "metadata": {},
   "outputs": [],
   "source": [
    "df_cust = df_cust.drop('cust_dob',axis=1)"
   ]
  },
  {
   "cell_type": "code",
   "execution_count": 20,
   "metadata": {},
   "outputs": [
    {
     "data": {
      "text/html": [
       "<div>\n",
       "<style scoped>\n",
       "    .dataframe tbody tr th:only-of-type {\n",
       "        vertical-align: middle;\n",
       "    }\n",
       "\n",
       "    .dataframe tbody tr th {\n",
       "        vertical-align: top;\n",
       "    }\n",
       "\n",
       "    .dataframe thead th {\n",
       "        text-align: right;\n",
       "    }\n",
       "</style>\n",
       "<table border=\"1\" class=\"dataframe\">\n",
       "  <thead>\n",
       "    <tr style=\"text-align: right;\">\n",
       "      <th></th>\n",
       "      <th>cust_id</th>\n",
       "      <th>cust_gender</th>\n",
       "      <th>cust_age</th>\n",
       "    </tr>\n",
       "  </thead>\n",
       "  <tbody>\n",
       "    <tr>\n",
       "      <th>0</th>\n",
       "      <td>268408</td>\n",
       "      <td>M</td>\n",
       "      <td>50</td>\n",
       "    </tr>\n",
       "    <tr>\n",
       "      <th>1</th>\n",
       "      <td>269696</td>\n",
       "      <td>F</td>\n",
       "      <td>50</td>\n",
       "    </tr>\n",
       "    <tr>\n",
       "      <th>2</th>\n",
       "      <td>268159</td>\n",
       "      <td>F</td>\n",
       "      <td>50</td>\n",
       "    </tr>\n",
       "    <tr>\n",
       "      <th>3</th>\n",
       "      <td>270181</td>\n",
       "      <td>F</td>\n",
       "      <td>50</td>\n",
       "    </tr>\n",
       "    <tr>\n",
       "      <th>4</th>\n",
       "      <td>268073</td>\n",
       "      <td>M</td>\n",
       "      <td>50</td>\n",
       "    </tr>\n",
       "    <tr>\n",
       "      <th>...</th>\n",
       "      <td>...</td>\n",
       "      <td>...</td>\n",
       "      <td>...</td>\n",
       "    </tr>\n",
       "    <tr>\n",
       "      <th>5642</th>\n",
       "      <td>274474</td>\n",
       "      <td>M</td>\n",
       "      <td>28</td>\n",
       "    </tr>\n",
       "    <tr>\n",
       "      <th>5643</th>\n",
       "      <td>267666</td>\n",
       "      <td>M</td>\n",
       "      <td>28</td>\n",
       "    </tr>\n",
       "    <tr>\n",
       "      <th>5644</th>\n",
       "      <td>270476</td>\n",
       "      <td>F</td>\n",
       "      <td>28</td>\n",
       "    </tr>\n",
       "    <tr>\n",
       "      <th>5645</th>\n",
       "      <td>269626</td>\n",
       "      <td>F</td>\n",
       "      <td>28</td>\n",
       "    </tr>\n",
       "    <tr>\n",
       "      <th>5646</th>\n",
       "      <td>274308</td>\n",
       "      <td>F</td>\n",
       "      <td>28</td>\n",
       "    </tr>\n",
       "  </tbody>\n",
       "</table>\n",
       "<p>5647 rows × 3 columns</p>\n",
       "</div>"
      ],
      "text/plain": [
       "      cust_id cust_gender  cust_age\n",
       "0      268408           M        50\n",
       "1      269696           F        50\n",
       "2      268159           F        50\n",
       "3      270181           F        50\n",
       "4      268073           M        50\n",
       "...       ...         ...       ...\n",
       "5642   274474           M        28\n",
       "5643   267666           M        28\n",
       "5644   270476           F        28\n",
       "5645   269626           F        28\n",
       "5646   274308           F        28\n",
       "\n",
       "[5647 rows x 3 columns]"
      ]
     },
     "execution_count": 20,
     "metadata": {},
     "output_type": "execute_result"
    }
   ],
   "source": [
    "df_cust"
   ]
  },
  {
   "cell_type": "markdown",
   "metadata": {},
   "source": [
    "Now joining transactions table with customers table."
   ]
  },
  {
   "cell_type": "code",
   "execution_count": 21,
   "metadata": {},
   "outputs": [],
   "source": [
    "result = pd.merge(df_tran, df_cust, on=['cust_id'])"
   ]
  },
  {
   "cell_type": "code",
   "execution_count": 22,
   "metadata": {
    "scrolled": false
   },
   "outputs": [
    {
     "data": {
      "text/html": [
       "<div>\n",
       "<style scoped>\n",
       "    .dataframe tbody tr th:only-of-type {\n",
       "        vertical-align: middle;\n",
       "    }\n",
       "\n",
       "    .dataframe tbody tr th {\n",
       "        vertical-align: top;\n",
       "    }\n",
       "\n",
       "    .dataframe thead th {\n",
       "        text-align: right;\n",
       "    }\n",
       "</style>\n",
       "<table border=\"1\" class=\"dataframe\">\n",
       "  <thead>\n",
       "    <tr style=\"text-align: right;\">\n",
       "      <th></th>\n",
       "      <th>transaction_id</th>\n",
       "      <th>cust_id</th>\n",
       "      <th>tran_date</th>\n",
       "      <th>prod_subcat_code</th>\n",
       "      <th>prod_cat_code</th>\n",
       "      <th>qty</th>\n",
       "      <th>rate</th>\n",
       "      <th>tax</th>\n",
       "      <th>total_amt</th>\n",
       "      <th>store_type</th>\n",
       "      <th>cust_gender</th>\n",
       "      <th>cust_age</th>\n",
       "    </tr>\n",
       "  </thead>\n",
       "  <tbody>\n",
       "    <tr>\n",
       "      <th>0</th>\n",
       "      <td>80712190438</td>\n",
       "      <td>270351</td>\n",
       "      <td>28-02-2014</td>\n",
       "      <td>1</td>\n",
       "      <td>1</td>\n",
       "      <td>5</td>\n",
       "      <td>772</td>\n",
       "      <td>405.300</td>\n",
       "      <td>4265.300</td>\n",
       "      <td>e-Shop</td>\n",
       "      <td>M</td>\n",
       "      <td>39</td>\n",
       "    </tr>\n",
       "    <tr>\n",
       "      <th>1</th>\n",
       "      <td>80712190438</td>\n",
       "      <td>270351</td>\n",
       "      <td>20-02-2014</td>\n",
       "      <td>1</td>\n",
       "      <td>1</td>\n",
       "      <td>5</td>\n",
       "      <td>772</td>\n",
       "      <td>405.300</td>\n",
       "      <td>4265.300</td>\n",
       "      <td>e-Shop</td>\n",
       "      <td>M</td>\n",
       "      <td>39</td>\n",
       "    </tr>\n",
       "    <tr>\n",
       "      <th>2</th>\n",
       "      <td>36957441426</td>\n",
       "      <td>270351</td>\n",
       "      <td>16-09-2013</td>\n",
       "      <td>3</td>\n",
       "      <td>2</td>\n",
       "      <td>3</td>\n",
       "      <td>361</td>\n",
       "      <td>113.715</td>\n",
       "      <td>1196.715</td>\n",
       "      <td>Flagship store</td>\n",
       "      <td>M</td>\n",
       "      <td>39</td>\n",
       "    </tr>\n",
       "    <tr>\n",
       "      <th>3</th>\n",
       "      <td>12236277258</td>\n",
       "      <td>270351</td>\n",
       "      <td>18-03-2013</td>\n",
       "      <td>8</td>\n",
       "      <td>3</td>\n",
       "      <td>3</td>\n",
       "      <td>1030</td>\n",
       "      <td>324.450</td>\n",
       "      <td>3414.450</td>\n",
       "      <td>e-Shop</td>\n",
       "      <td>M</td>\n",
       "      <td>39</td>\n",
       "    </tr>\n",
       "    <tr>\n",
       "      <th>4</th>\n",
       "      <td>13181563739</td>\n",
       "      <td>270351</td>\n",
       "      <td>13-12-2011</td>\n",
       "      <td>6</td>\n",
       "      <td>5</td>\n",
       "      <td>1</td>\n",
       "      <td>1048</td>\n",
       "      <td>110.040</td>\n",
       "      <td>1158.040</td>\n",
       "      <td>e-Shop</td>\n",
       "      <td>M</td>\n",
       "      <td>39</td>\n",
       "    </tr>\n",
       "    <tr>\n",
       "      <th>...</th>\n",
       "      <td>...</td>\n",
       "      <td>...</td>\n",
       "      <td>...</td>\n",
       "      <td>...</td>\n",
       "      <td>...</td>\n",
       "      <td>...</td>\n",
       "      <td>...</td>\n",
       "      <td>...</td>\n",
       "      <td>...</td>\n",
       "      <td>...</td>\n",
       "      <td>...</td>\n",
       "      <td>...</td>\n",
       "    </tr>\n",
       "    <tr>\n",
       "      <th>23048</th>\n",
       "      <td>16293185603</td>\n",
       "      <td>274931</td>\n",
       "      <td>31-01-2011</td>\n",
       "      <td>8</td>\n",
       "      <td>3</td>\n",
       "      <td>3</td>\n",
       "      <td>137</td>\n",
       "      <td>43.155</td>\n",
       "      <td>454.155</td>\n",
       "      <td>Flagship store</td>\n",
       "      <td>M</td>\n",
       "      <td>48</td>\n",
       "    </tr>\n",
       "    <tr>\n",
       "      <th>23049</th>\n",
       "      <td>70163958026</td>\n",
       "      <td>267902</td>\n",
       "      <td>30-01-2011</td>\n",
       "      <td>10</td>\n",
       "      <td>5</td>\n",
       "      <td>4</td>\n",
       "      <td>404</td>\n",
       "      <td>169.680</td>\n",
       "      <td>1785.680</td>\n",
       "      <td>e-Shop</td>\n",
       "      <td>M</td>\n",
       "      <td>45</td>\n",
       "    </tr>\n",
       "    <tr>\n",
       "      <th>23050</th>\n",
       "      <td>20417144530</td>\n",
       "      <td>269556</td>\n",
       "      <td>29-01-2011</td>\n",
       "      <td>10</td>\n",
       "      <td>6</td>\n",
       "      <td>3</td>\n",
       "      <td>654</td>\n",
       "      <td>206.010</td>\n",
       "      <td>2168.010</td>\n",
       "      <td>Flagship store</td>\n",
       "      <td>M</td>\n",
       "      <td>48</td>\n",
       "    </tr>\n",
       "    <tr>\n",
       "      <th>23051</th>\n",
       "      <td>58531412371</td>\n",
       "      <td>274935</td>\n",
       "      <td>29-01-2011</td>\n",
       "      <td>10</td>\n",
       "      <td>5</td>\n",
       "      <td>4</td>\n",
       "      <td>104</td>\n",
       "      <td>43.680</td>\n",
       "      <td>459.680</td>\n",
       "      <td>Flagship store</td>\n",
       "      <td>F</td>\n",
       "      <td>43</td>\n",
       "    </tr>\n",
       "    <tr>\n",
       "      <th>23052</th>\n",
       "      <td>83245680995</td>\n",
       "      <td>273723</td>\n",
       "      <td>26-01-2011</td>\n",
       "      <td>4</td>\n",
       "      <td>4</td>\n",
       "      <td>4</td>\n",
       "      <td>1477</td>\n",
       "      <td>620.340</td>\n",
       "      <td>6528.340</td>\n",
       "      <td>e-Shop</td>\n",
       "      <td>F</td>\n",
       "      <td>36</td>\n",
       "    </tr>\n",
       "  </tbody>\n",
       "</table>\n",
       "<p>23053 rows × 12 columns</p>\n",
       "</div>"
      ],
      "text/plain": [
       "       transaction_id  cust_id   tran_date  prod_subcat_code  prod_cat_code  \\\n",
       "0         80712190438   270351  28-02-2014                 1              1   \n",
       "1         80712190438   270351  20-02-2014                 1              1   \n",
       "2         36957441426   270351  16-09-2013                 3              2   \n",
       "3         12236277258   270351  18-03-2013                 8              3   \n",
       "4         13181563739   270351  13-12-2011                 6              5   \n",
       "...               ...      ...         ...               ...            ...   \n",
       "23048     16293185603   274931  31-01-2011                 8              3   \n",
       "23049     70163958026   267902  30-01-2011                10              5   \n",
       "23050     20417144530   269556  29-01-2011                10              6   \n",
       "23051     58531412371   274935  29-01-2011                10              5   \n",
       "23052     83245680995   273723  26-01-2011                 4              4   \n",
       "\n",
       "       qty  rate      tax  total_amt      store_type cust_gender  cust_age  \n",
       "0        5   772  405.300   4265.300          e-Shop           M        39  \n",
       "1        5   772  405.300   4265.300          e-Shop           M        39  \n",
       "2        3   361  113.715   1196.715  Flagship store           M        39  \n",
       "3        3  1030  324.450   3414.450          e-Shop           M        39  \n",
       "4        1  1048  110.040   1158.040          e-Shop           M        39  \n",
       "...    ...   ...      ...        ...             ...         ...       ...  \n",
       "23048    3   137   43.155    454.155  Flagship store           M        48  \n",
       "23049    4   404  169.680   1785.680          e-Shop           M        45  \n",
       "23050    3   654  206.010   2168.010  Flagship store           M        48  \n",
       "23051    4   104   43.680    459.680  Flagship store           F        43  \n",
       "23052    4  1477  620.340   6528.340          e-Shop           F        36  \n",
       "\n",
       "[23053 rows x 12 columns]"
      ]
     },
     "execution_count": 22,
     "metadata": {},
     "output_type": "execute_result"
    }
   ],
   "source": [
    "result"
   ]
  },
  {
   "cell_type": "markdown",
   "metadata": {},
   "source": [
    "Converting datatype of necessary columns"
   ]
  },
  {
   "cell_type": "code",
   "execution_count": 23,
   "metadata": {},
   "outputs": [],
   "source": [
    "result['prod_subcat_code'] = result['prod_subcat_code'].astype(int)"
   ]
  },
  {
   "cell_type": "code",
   "execution_count": 24,
   "metadata": {},
   "outputs": [],
   "source": [
    "result['prod_cat_code'] = result['prod_cat_code'].astype(int)"
   ]
  },
  {
   "cell_type": "code",
   "execution_count": 25,
   "metadata": {},
   "outputs": [],
   "source": [
    "df_prod_cat['prod_subcat_code'] = df_prod_cat['prod_subcat_code'].astype(int)"
   ]
  },
  {
   "cell_type": "code",
   "execution_count": 26,
   "metadata": {},
   "outputs": [],
   "source": [
    "df_prod_cat['prod_cat_code'] = df_prod_cat['prod_cat_code'].astype(int)"
   ]
  },
  {
   "cell_type": "markdown",
   "metadata": {},
   "source": [
    "Now merging product category table with resultant above table."
   ]
  },
  {
   "cell_type": "code",
   "execution_count": 27,
   "metadata": {},
   "outputs": [],
   "source": [
    "new_df = pd.merge(result, df_prod_cat, on=['prod_cat_code','prod_subcat_code'])"
   ]
  },
  {
   "cell_type": "markdown",
   "metadata": {},
   "source": [
    "Dropping unnecessary columns and records."
   ]
  },
  {
   "cell_type": "code",
   "execution_count": 28,
   "metadata": {},
   "outputs": [],
   "source": [
    "new_df = new_df.drop(['prod_cat_code','prod_subcat_code'],axis=1)"
   ]
  },
  {
   "cell_type": "code",
   "execution_count": 29,
   "metadata": {},
   "outputs": [],
   "source": [
    "new_df = new_df.drop_duplicates()"
   ]
  },
  {
   "cell_type": "code",
   "execution_count": 30,
   "metadata": {},
   "outputs": [
    {
     "data": {
      "text/html": [
       "<div>\n",
       "<style scoped>\n",
       "    .dataframe tbody tr th:only-of-type {\n",
       "        vertical-align: middle;\n",
       "    }\n",
       "\n",
       "    .dataframe tbody tr th {\n",
       "        vertical-align: top;\n",
       "    }\n",
       "\n",
       "    .dataframe thead th {\n",
       "        text-align: right;\n",
       "    }\n",
       "</style>\n",
       "<table border=\"1\" class=\"dataframe\">\n",
       "  <thead>\n",
       "    <tr style=\"text-align: right;\">\n",
       "      <th></th>\n",
       "      <th>transaction_id</th>\n",
       "      <th>cust_id</th>\n",
       "      <th>tran_date</th>\n",
       "      <th>qty</th>\n",
       "      <th>rate</th>\n",
       "      <th>tax</th>\n",
       "      <th>total_amt</th>\n",
       "      <th>store_type</th>\n",
       "      <th>cust_gender</th>\n",
       "      <th>cust_age</th>\n",
       "      <th>prod_cat</th>\n",
       "      <th>prod_subcat</th>\n",
       "    </tr>\n",
       "  </thead>\n",
       "  <tbody>\n",
       "    <tr>\n",
       "      <th>0</th>\n",
       "      <td>80712190438</td>\n",
       "      <td>270351</td>\n",
       "      <td>28-02-2014</td>\n",
       "      <td>5</td>\n",
       "      <td>772</td>\n",
       "      <td>405.300</td>\n",
       "      <td>4265.300</td>\n",
       "      <td>e-Shop</td>\n",
       "      <td>M</td>\n",
       "      <td>39</td>\n",
       "      <td>Clothing</td>\n",
       "      <td>Women</td>\n",
       "    </tr>\n",
       "    <tr>\n",
       "      <th>1</th>\n",
       "      <td>80712190438</td>\n",
       "      <td>270351</td>\n",
       "      <td>20-02-2014</td>\n",
       "      <td>5</td>\n",
       "      <td>772</td>\n",
       "      <td>405.300</td>\n",
       "      <td>4265.300</td>\n",
       "      <td>e-Shop</td>\n",
       "      <td>M</td>\n",
       "      <td>39</td>\n",
       "      <td>Clothing</td>\n",
       "      <td>Women</td>\n",
       "    </tr>\n",
       "    <tr>\n",
       "      <th>2</th>\n",
       "      <td>18505840838</td>\n",
       "      <td>271509</td>\n",
       "      <td>16-12-2013</td>\n",
       "      <td>3</td>\n",
       "      <td>1229</td>\n",
       "      <td>387.135</td>\n",
       "      <td>4074.135</td>\n",
       "      <td>Flagship store</td>\n",
       "      <td>M</td>\n",
       "      <td>39</td>\n",
       "      <td>Clothing</td>\n",
       "      <td>Women</td>\n",
       "    </tr>\n",
       "    <tr>\n",
       "      <th>3</th>\n",
       "      <td>92814475704</td>\n",
       "      <td>267750</td>\n",
       "      <td>16-08-2013</td>\n",
       "      <td>4</td>\n",
       "      <td>284</td>\n",
       "      <td>119.280</td>\n",
       "      <td>1255.280</td>\n",
       "      <td>Flagship store</td>\n",
       "      <td>M</td>\n",
       "      <td>34</td>\n",
       "      <td>Clothing</td>\n",
       "      <td>Women</td>\n",
       "    </tr>\n",
       "    <tr>\n",
       "      <th>4</th>\n",
       "      <td>92814475704</td>\n",
       "      <td>267750</td>\n",
       "      <td>7/8/2013</td>\n",
       "      <td>4</td>\n",
       "      <td>284</td>\n",
       "      <td>119.280</td>\n",
       "      <td>1255.280</td>\n",
       "      <td>Flagship store</td>\n",
       "      <td>M</td>\n",
       "      <td>34</td>\n",
       "      <td>Clothing</td>\n",
       "      <td>Women</td>\n",
       "    </tr>\n",
       "    <tr>\n",
       "      <th>...</th>\n",
       "      <td>...</td>\n",
       "      <td>...</td>\n",
       "      <td>...</td>\n",
       "      <td>...</td>\n",
       "      <td>...</td>\n",
       "      <td>...</td>\n",
       "      <td>...</td>\n",
       "      <td>...</td>\n",
       "      <td>...</td>\n",
       "      <td>...</td>\n",
       "      <td>...</td>\n",
       "      <td>...</td>\n",
       "    </tr>\n",
       "    <tr>\n",
       "      <th>23048</th>\n",
       "      <td>7173864364</td>\n",
       "      <td>271157</td>\n",
       "      <td>9/4/2011</td>\n",
       "      <td>5</td>\n",
       "      <td>788</td>\n",
       "      <td>413.700</td>\n",
       "      <td>4353.700</td>\n",
       "      <td>Flagship store</td>\n",
       "      <td>F</td>\n",
       "      <td>47</td>\n",
       "      <td>Bags</td>\n",
       "      <td>Women</td>\n",
       "    </tr>\n",
       "    <tr>\n",
       "      <th>23049</th>\n",
       "      <td>5618131425</td>\n",
       "      <td>272010</td>\n",
       "      <td>3/3/2011</td>\n",
       "      <td>2</td>\n",
       "      <td>1150</td>\n",
       "      <td>241.500</td>\n",
       "      <td>2541.500</td>\n",
       "      <td>MBR</td>\n",
       "      <td>F</td>\n",
       "      <td>48</td>\n",
       "      <td>Bags</td>\n",
       "      <td>Women</td>\n",
       "    </tr>\n",
       "    <tr>\n",
       "      <th>23050</th>\n",
       "      <td>18727956164</td>\n",
       "      <td>267161</td>\n",
       "      <td>23-02-2011</td>\n",
       "      <td>5</td>\n",
       "      <td>668</td>\n",
       "      <td>350.700</td>\n",
       "      <td>3690.700</td>\n",
       "      <td>e-Shop</td>\n",
       "      <td>M</td>\n",
       "      <td>39</td>\n",
       "      <td>Bags</td>\n",
       "      <td>Women</td>\n",
       "    </tr>\n",
       "    <tr>\n",
       "      <th>23051</th>\n",
       "      <td>60416814232</td>\n",
       "      <td>273281</td>\n",
       "      <td>18-02-2011</td>\n",
       "      <td>4</td>\n",
       "      <td>202</td>\n",
       "      <td>84.840</td>\n",
       "      <td>892.840</td>\n",
       "      <td>Flagship store</td>\n",
       "      <td>F</td>\n",
       "      <td>32</td>\n",
       "      <td>Bags</td>\n",
       "      <td>Women</td>\n",
       "    </tr>\n",
       "    <tr>\n",
       "      <th>23052</th>\n",
       "      <td>83245680995</td>\n",
       "      <td>273723</td>\n",
       "      <td>26-01-2011</td>\n",
       "      <td>4</td>\n",
       "      <td>1477</td>\n",
       "      <td>620.340</td>\n",
       "      <td>6528.340</td>\n",
       "      <td>e-Shop</td>\n",
       "      <td>F</td>\n",
       "      <td>36</td>\n",
       "      <td>Bags</td>\n",
       "      <td>Women</td>\n",
       "    </tr>\n",
       "  </tbody>\n",
       "</table>\n",
       "<p>23040 rows × 12 columns</p>\n",
       "</div>"
      ],
      "text/plain": [
       "       transaction_id  cust_id   tran_date  qty  rate      tax  total_amt  \\\n",
       "0         80712190438   270351  28-02-2014    5   772  405.300   4265.300   \n",
       "1         80712190438   270351  20-02-2014    5   772  405.300   4265.300   \n",
       "2         18505840838   271509  16-12-2013    3  1229  387.135   4074.135   \n",
       "3         92814475704   267750  16-08-2013    4   284  119.280   1255.280   \n",
       "4         92814475704   267750    7/8/2013    4   284  119.280   1255.280   \n",
       "...               ...      ...         ...  ...   ...      ...        ...   \n",
       "23048      7173864364   271157    9/4/2011    5   788  413.700   4353.700   \n",
       "23049      5618131425   272010    3/3/2011    2  1150  241.500   2541.500   \n",
       "23050     18727956164   267161  23-02-2011    5   668  350.700   3690.700   \n",
       "23051     60416814232   273281  18-02-2011    4   202   84.840    892.840   \n",
       "23052     83245680995   273723  26-01-2011    4  1477  620.340   6528.340   \n",
       "\n",
       "           store_type cust_gender  cust_age  prod_cat prod_subcat  \n",
       "0              e-Shop           M        39  Clothing       Women  \n",
       "1              e-Shop           M        39  Clothing       Women  \n",
       "2      Flagship store           M        39  Clothing       Women  \n",
       "3      Flagship store           M        34  Clothing       Women  \n",
       "4      Flagship store           M        34  Clothing       Women  \n",
       "...               ...         ...       ...       ...         ...  \n",
       "23048  Flagship store           F        47      Bags       Women  \n",
       "23049             MBR           F        48      Bags       Women  \n",
       "23050          e-Shop           M        39      Bags       Women  \n",
       "23051  Flagship store           F        32      Bags       Women  \n",
       "23052          e-Shop           F        36      Bags       Women  \n",
       "\n",
       "[23040 rows x 12 columns]"
      ]
     },
     "execution_count": 30,
     "metadata": {},
     "output_type": "execute_result"
    }
   ],
   "source": [
    "new_df"
   ]
  },
  {
   "cell_type": "markdown",
   "metadata": {},
   "source": [
    "Now this is cleaned dataset."
   ]
  },
  {
   "cell_type": "markdown",
   "metadata": {},
   "source": [
    "## Data Analysis & Visualization"
   ]
  },
  {
   "cell_type": "code",
   "execution_count": 31,
   "metadata": {},
   "outputs": [],
   "source": [
    "plt.style.use('classic')"
   ]
  },
  {
   "cell_type": "raw",
   "metadata": {},
   "source": [
    "Q. Boxplot on customers age column"
   ]
  },
  {
   "cell_type": "code",
   "execution_count": 32,
   "metadata": {},
   "outputs": [
    {
     "data": {
      "image/png": "[encoded data removed]",
      "text/plain": [
       "<Figure size 640x480 with 1 Axes>"
      ]
     },
     "metadata": {},
     "output_type": "display_data"
    }
   ],
   "source": [
    "plt.boxplot(new_df['cust_age'])\n",
    "plt.show()"
   ]
  },
  {
   "cell_type": "markdown",
   "metadata": {},
   "source": [
    "As we can see, there are no outliers in age column and average of customer is around 39 year."
   ]
  },
  {
   "cell_type": "code",
   "execution_count": 33,
   "metadata": {},
   "outputs": [
    {
     "data": {
      "text/html": [
       "<div>\n",
       "<style scoped>\n",
       "    .dataframe tbody tr th:only-of-type {\n",
       "        vertical-align: middle;\n",
       "    }\n",
       "\n",
       "    .dataframe tbody tr th {\n",
       "        vertical-align: top;\n",
       "    }\n",
       "\n",
       "    .dataframe thead th {\n",
       "        text-align: right;\n",
       "    }\n",
       "</style>\n",
       "<table border=\"1\" class=\"dataframe\">\n",
       "  <thead>\n",
       "    <tr style=\"text-align: right;\">\n",
       "      <th></th>\n",
       "      <th>transaction_id</th>\n",
       "      <th>cust_id</th>\n",
       "      <th>qty</th>\n",
       "      <th>rate</th>\n",
       "      <th>tax</th>\n",
       "      <th>total_amt</th>\n",
       "      <th>cust_age</th>\n",
       "    </tr>\n",
       "  </thead>\n",
       "  <tbody>\n",
       "    <tr>\n",
       "      <th>count</th>\n",
       "      <td>2.304000e+04</td>\n",
       "      <td>23040.000000</td>\n",
       "      <td>23040.000000</td>\n",
       "      <td>23040.000000</td>\n",
       "      <td>23040.000000</td>\n",
       "      <td>23040.000000</td>\n",
       "      <td>23040.000000</td>\n",
       "    </tr>\n",
       "    <tr>\n",
       "      <th>mean</th>\n",
       "      <td>5.006955e+10</td>\n",
       "      <td>271021.880252</td>\n",
       "      <td>3.007031</td>\n",
       "      <td>787.126215</td>\n",
       "      <td>248.677488</td>\n",
       "      <td>2617.034520</td>\n",
       "      <td>38.966493</td>\n",
       "    </tr>\n",
       "    <tr>\n",
       "      <th>std</th>\n",
       "      <td>2.898062e+10</td>\n",
       "      <td>2431.573668</td>\n",
       "      <td>1.420474</td>\n",
       "      <td>415.761913</td>\n",
       "      <td>187.188311</td>\n",
       "      <td>1969.934133</td>\n",
       "      <td>6.628458</td>\n",
       "    </tr>\n",
       "    <tr>\n",
       "      <th>min</th>\n",
       "      <td>3.268991e+06</td>\n",
       "      <td>266783.000000</td>\n",
       "      <td>1.000000</td>\n",
       "      <td>70.000000</td>\n",
       "      <td>7.350000</td>\n",
       "      <td>77.350000</td>\n",
       "      <td>28.000000</td>\n",
       "    </tr>\n",
       "    <tr>\n",
       "      <th>25%</th>\n",
       "      <td>2.493315e+10</td>\n",
       "      <td>268935.000000</td>\n",
       "      <td>2.000000</td>\n",
       "      <td>426.000000</td>\n",
       "      <td>98.280000</td>\n",
       "      <td>1034.280000</td>\n",
       "      <td>33.000000</td>\n",
       "    </tr>\n",
       "    <tr>\n",
       "      <th>50%</th>\n",
       "      <td>5.009188e+10</td>\n",
       "      <td>270980.500000</td>\n",
       "      <td>3.000000</td>\n",
       "      <td>791.000000</td>\n",
       "      <td>199.080000</td>\n",
       "      <td>2095.080000</td>\n",
       "      <td>39.000000</td>\n",
       "    </tr>\n",
       "    <tr>\n",
       "      <th>75%</th>\n",
       "      <td>7.532632e+10</td>\n",
       "      <td>273114.250000</td>\n",
       "      <td>4.000000</td>\n",
       "      <td>1150.000000</td>\n",
       "      <td>365.767500</td>\n",
       "      <td>3849.267500</td>\n",
       "      <td>45.000000</td>\n",
       "    </tr>\n",
       "    <tr>\n",
       "      <th>max</th>\n",
       "      <td>9.998755e+10</td>\n",
       "      <td>275265.000000</td>\n",
       "      <td>5.000000</td>\n",
       "      <td>1500.000000</td>\n",
       "      <td>787.500000</td>\n",
       "      <td>8287.500000</td>\n",
       "      <td>50.000000</td>\n",
       "    </tr>\n",
       "  </tbody>\n",
       "</table>\n",
       "</div>"
      ],
      "text/plain": [
       "       transaction_id        cust_id           qty          rate  \\\n",
       "count    2.304000e+04   23040.000000  23040.000000  23040.000000   \n",
       "mean     5.006955e+10  271021.880252      3.007031    787.126215   \n",
       "std      2.898062e+10    2431.573668      1.420474    415.761913   \n",
       "min      3.268991e+06  266783.000000      1.000000     70.000000   \n",
       "25%      2.493315e+10  268935.000000      2.000000    426.000000   \n",
       "50%      5.009188e+10  270980.500000      3.000000    791.000000   \n",
       "75%      7.532632e+10  273114.250000      4.000000   1150.000000   \n",
       "max      9.998755e+10  275265.000000      5.000000   1500.000000   \n",
       "\n",
       "                tax     total_amt      cust_age  \n",
       "count  23040.000000  23040.000000  23040.000000  \n",
       "mean     248.677488   2617.034520     38.966493  \n",
       "std      187.188311   1969.934133      6.628458  \n",
       "min        7.350000     77.350000     28.000000  \n",
       "25%       98.280000   1034.280000     33.000000  \n",
       "50%      199.080000   2095.080000     39.000000  \n",
       "75%      365.767500   3849.267500     45.000000  \n",
       "max      787.500000   8287.500000     50.000000  "
      ]
     },
     "execution_count": 33,
     "metadata": {},
     "output_type": "execute_result"
    }
   ],
   "source": [
    "new_df.describe()"
   ]
  },
  {
   "cell_type": "markdown",
   "metadata": {},
   "source": [
    "This shows average shopping amount is 2617."
   ]
  },
  {
   "cell_type": "raw",
   "metadata": {},
   "source": [
    "Q. Boxplot on total amount column"
   ]
  },
  {
   "cell_type": "code",
   "execution_count": 34,
   "metadata": {},
   "outputs": [
    {
     "data": {
      "image/png": "[encoded data removed]",
      "text/plain": [
       "<Figure size 640x480 with 1 Axes>"
      ]
     },
     "metadata": {},
     "output_type": "display_data"
    }
   ],
   "source": [
    "plt.boxplot(new_df['total_amt'])\n",
    "plt.show()"
   ]
  },
  {
   "cell_type": "markdown",
   "metadata": {},
   "source": [
    "In total amount column also, only few outliers are there. So we ignore them."
   ]
  },
  {
   "cell_type": "raw",
   "metadata": {},
   "source": [
    "Q. Percentage of records for each gender"
   ]
  },
  {
   "cell_type": "code",
   "execution_count": 35,
   "metadata": {},
   "outputs": [],
   "source": [
    "gender=new_df.cust_gender.value_counts(normalize=True)"
   ]
  },
  {
   "cell_type": "code",
   "execution_count": 36,
   "metadata": {},
   "outputs": [
    {
     "data": {
      "text/plain": [
       "M    0.512543\n",
       "F    0.487457\n",
       "Name: cust_gender, dtype: float64"
      ]
     },
     "execution_count": 36,
     "metadata": {},
     "output_type": "execute_result"
    }
   ],
   "source": [
    "gender"
   ]
  },
  {
   "cell_type": "code",
   "execution_count": 37,
   "metadata": {},
   "outputs": [
    {
     "data": {
      "text/plain": [
       "Text(0, 0.5, 'Percentage')"
      ]
     },
     "execution_count": 37,
     "metadata": {},
     "output_type": "execute_result"
    },
    {
     "data": {
      "image/png": "[encoded data removed]",
      "text/plain": [
       "<Figure size 640x480 with 1 Axes>"
      ]
     },
     "metadata": {},
     "output_type": "display_data"
    }
   ],
   "source": [
    "gender.plot.bar()\n",
    "plt.title(\"Male/Female % in dataset\")\n",
    "plt.xlabel(\"Gender\")\n",
    "plt.ylabel(\"Percentage\")"
   ]
  },
  {
   "cell_type": "markdown",
   "metadata": {},
   "source": [
    "In the given dataset, males are slightly more than females."
   ]
  },
  {
   "cell_type": "raw",
   "metadata": {},
   "source": [
    "Q. Average total amount differ by gender?"
   ]
  },
  {
   "cell_type": "code",
   "execution_count": 38,
   "metadata": {},
   "outputs": [
    {
     "data": {
      "image/png": "[encoded data removed]",
      "text/plain": [
       "<Figure size 640x480 with 1 Axes>"
      ]
     },
     "metadata": {},
     "output_type": "display_data"
    }
   ],
   "source": [
    "amt_differ=new_df.groupby([\"cust_gender\"])['total_amt'].mean()\n",
    "plt.bar(amt_differ.index, amt_differ.values, color=\"red\")\n",
    "plt.title(\"Average amount spent wrt gender\")\n",
    "plt.xlabel(\"Gender\")\n",
    "plt.ylabel(\"Average amount\")\n",
    "plt.show()"
   ]
  },
  {
   "cell_type": "markdown",
   "metadata": {},
   "source": [
    "This shows average amount does not vary based on gender."
   ]
  },
  {
   "cell_type": "raw",
   "metadata": {},
   "source": [
    "Q. Total amount distribution"
   ]
  },
  {
   "cell_type": "code",
   "execution_count": 39,
   "metadata": {},
   "outputs": [
    {
     "data": {
      "image/png": "[encoded data removed]",
      "text/plain": [
       "<Figure size 640x480 with 1 Axes>"
      ]
     },
     "metadata": {},
     "output_type": "display_data"
    }
   ],
   "source": [
    "sns.distplot(new_df['total_amt'])\n",
    "plt.title(\"Total amount distribution\")\n",
    "plt.show()"
   ]
  },
  {
   "cell_type": "markdown",
   "metadata": {},
   "source": [
    "This shows, more products got sold which have total amount within 100-2000."
   ]
  },
  {
   "cell_type": "raw",
   "metadata": {},
   "source": [
    "Q. Does money spend varies based on age?"
   ]
  },
  {
   "cell_type": "code",
   "execution_count": 40,
   "metadata": {
    "scrolled": false
   },
   "outputs": [
    {
     "data": {
      "image/png": "[encoded data removed]",
      "text/plain": [
       "<Figure size 480x480 with 3 Axes>"
      ]
     },
     "metadata": {},
     "output_type": "display_data"
    }
   ],
   "source": [
    "sns.jointplot(x ='cust_age', y ='total_amt', data = new_df, kind ='hex')\n",
    "plt.title(\"Does money spend varies based on age?\")\n",
    "plt.show()"
   ]
  },
  {
   "cell_type": "markdown",
   "metadata": {},
   "source": [
    "There is no significant relationship between age and total amount field which means all the age group people spend equally."
   ]
  },
  {
   "cell_type": "raw",
   "metadata": {},
   "source": [
    "Q. Top 10 customers"
   ]
  },
  {
   "cell_type": "code",
   "execution_count": 41,
   "metadata": {},
   "outputs": [],
   "source": [
    "top10 = new_df[['cust_id','total_amt']]"
   ]
  },
  {
   "cell_type": "code",
   "execution_count": 42,
   "metadata": {},
   "outputs": [
    {
     "data": {
      "text/html": [
       "<div>\n",
       "<style scoped>\n",
       "    .dataframe tbody tr th:only-of-type {\n",
       "        vertical-align: middle;\n",
       "    }\n",
       "\n",
       "    .dataframe tbody tr th {\n",
       "        vertical-align: top;\n",
       "    }\n",
       "\n",
       "    .dataframe thead th {\n",
       "        text-align: right;\n",
       "    }\n",
       "</style>\n",
       "<table border=\"1\" class=\"dataframe\">\n",
       "  <thead>\n",
       "    <tr style=\"text-align: right;\">\n",
       "      <th></th>\n",
       "      <th>cust_id</th>\n",
       "      <th>total_amt</th>\n",
       "    </tr>\n",
       "  </thead>\n",
       "  <tbody>\n",
       "    <tr>\n",
       "      <th>0</th>\n",
       "      <td>270351</td>\n",
       "      <td>4265.300</td>\n",
       "    </tr>\n",
       "    <tr>\n",
       "      <th>1</th>\n",
       "      <td>270351</td>\n",
       "      <td>4265.300</td>\n",
       "    </tr>\n",
       "    <tr>\n",
       "      <th>2</th>\n",
       "      <td>271509</td>\n",
       "      <td>4074.135</td>\n",
       "    </tr>\n",
       "    <tr>\n",
       "      <th>3</th>\n",
       "      <td>267750</td>\n",
       "      <td>1255.280</td>\n",
       "    </tr>\n",
       "    <tr>\n",
       "      <th>4</th>\n",
       "      <td>267750</td>\n",
       "      <td>1255.280</td>\n",
       "    </tr>\n",
       "    <tr>\n",
       "      <th>...</th>\n",
       "      <td>...</td>\n",
       "      <td>...</td>\n",
       "    </tr>\n",
       "    <tr>\n",
       "      <th>23048</th>\n",
       "      <td>271157</td>\n",
       "      <td>4353.700</td>\n",
       "    </tr>\n",
       "    <tr>\n",
       "      <th>23049</th>\n",
       "      <td>272010</td>\n",
       "      <td>2541.500</td>\n",
       "    </tr>\n",
       "    <tr>\n",
       "      <th>23050</th>\n",
       "      <td>267161</td>\n",
       "      <td>3690.700</td>\n",
       "    </tr>\n",
       "    <tr>\n",
       "      <th>23051</th>\n",
       "      <td>273281</td>\n",
       "      <td>892.840</td>\n",
       "    </tr>\n",
       "    <tr>\n",
       "      <th>23052</th>\n",
       "      <td>273723</td>\n",
       "      <td>6528.340</td>\n",
       "    </tr>\n",
       "  </tbody>\n",
       "</table>\n",
       "<p>23040 rows × 2 columns</p>\n",
       "</div>"
      ],
      "text/plain": [
       "       cust_id  total_amt\n",
       "0       270351   4265.300\n",
       "1       270351   4265.300\n",
       "2       271509   4074.135\n",
       "3       267750   1255.280\n",
       "4       267750   1255.280\n",
       "...        ...        ...\n",
       "23048   271157   4353.700\n",
       "23049   272010   2541.500\n",
       "23050   267161   3690.700\n",
       "23051   273281    892.840\n",
       "23052   273723   6528.340\n",
       "\n",
       "[23040 rows x 2 columns]"
      ]
     },
     "execution_count": 42,
     "metadata": {},
     "output_type": "execute_result"
    }
   ],
   "source": [
    "top10"
   ]
  },
  {
   "cell_type": "code",
   "execution_count": 43,
   "metadata": {},
   "outputs": [
    {
     "data": {
      "text/html": [
       "<div>\n",
       "<style scoped>\n",
       "    .dataframe tbody tr th:only-of-type {\n",
       "        vertical-align: middle;\n",
       "    }\n",
       "\n",
       "    .dataframe tbody tr th {\n",
       "        vertical-align: top;\n",
       "    }\n",
       "\n",
       "    .dataframe thead th {\n",
       "        text-align: right;\n",
       "    }\n",
       "</style>\n",
       "<table border=\"1\" class=\"dataframe\">\n",
       "  <thead>\n",
       "    <tr style=\"text-align: right;\">\n",
       "      <th></th>\n",
       "      <th>total_amt</th>\n",
       "    </tr>\n",
       "    <tr>\n",
       "      <th>cust_id</th>\n",
       "      <th></th>\n",
       "    </tr>\n",
       "  </thead>\n",
       "  <tbody>\n",
       "    <tr>\n",
       "      <th>270831</th>\n",
       "      <td>53772.615</td>\n",
       "    </tr>\n",
       "    <tr>\n",
       "      <th>271834</th>\n",
       "      <td>48425.520</td>\n",
       "    </tr>\n",
       "    <tr>\n",
       "      <th>271862</th>\n",
       "      <td>44266.300</td>\n",
       "    </tr>\n",
       "    <tr>\n",
       "      <th>267419</th>\n",
       "      <td>42951.350</td>\n",
       "    </tr>\n",
       "    <tr>\n",
       "      <th>275252</th>\n",
       "      <td>42114.865</td>\n",
       "    </tr>\n",
       "    <tr>\n",
       "      <th>269539</th>\n",
       "      <td>41596.620</td>\n",
       "    </tr>\n",
       "    <tr>\n",
       "      <th>273481</th>\n",
       "      <td>41389.985</td>\n",
       "    </tr>\n",
       "    <tr>\n",
       "      <th>269233</th>\n",
       "      <td>40762.345</td>\n",
       "    </tr>\n",
       "    <tr>\n",
       "      <th>274035</th>\n",
       "      <td>40355.705</td>\n",
       "    </tr>\n",
       "    <tr>\n",
       "      <th>272416</th>\n",
       "      <td>39901.550</td>\n",
       "    </tr>\n",
       "  </tbody>\n",
       "</table>\n",
       "</div>"
      ],
      "text/plain": [
       "         total_amt\n",
       "cust_id           \n",
       "270831   53772.615\n",
       "271834   48425.520\n",
       "271862   44266.300\n",
       "267419   42951.350\n",
       "275252   42114.865\n",
       "269539   41596.620\n",
       "273481   41389.985\n",
       "269233   40762.345\n",
       "274035   40355.705\n",
       "272416   39901.550"
      ]
     },
     "execution_count": 43,
     "metadata": {},
     "output_type": "execute_result"
    }
   ],
   "source": [
    "top10 = top10.groupby('cust_id').sum().nlargest(10,['total_amt'])\n",
    "top10"
   ]
  },
  {
   "cell_type": "code",
   "execution_count": 44,
   "metadata": {},
   "outputs": [
    {
     "data": {
      "text/plain": [
       "Text(0, 0.5, 'Total amount')"
      ]
     },
     "execution_count": 44,
     "metadata": {},
     "output_type": "execute_result"
    },
    {
     "data": {
      "image/png": "[encoded data removed]",
      "text/plain": [
       "<Figure size 640x480 with 1 Axes>"
      ]
     },
     "metadata": {},
     "output_type": "display_data"
    }
   ],
   "source": [
    "top10.plot.bar()\n",
    "plt.title(\"Top 10 Customers\")\n",
    "plt.ylabel(\"Total amount\")"
   ]
  },
  {
   "cell_type": "markdown",
   "metadata": {},
   "source": [
    "These are top 10 customer id."
   ]
  },
  {
   "cell_type": "raw",
   "metadata": {},
   "source": [
    "Q. Which Main category products are preferred by the customers."
   ]
  },
  {
   "cell_type": "code",
   "execution_count": 45,
   "metadata": {},
   "outputs": [],
   "source": [
    "y = new_df[['prod_cat']].value_counts()"
   ]
  },
  {
   "cell_type": "code",
   "execution_count": 46,
   "metadata": {},
   "outputs": [
    {
     "data": {
      "image/png": "[encoded data removed]",
      "text/plain": [
       "<Figure size 640x480 with 1 Axes>"
      ]
     },
     "metadata": {},
     "output_type": "display_data"
    }
   ],
   "source": [
    "fig = plt.figure()\n",
    "ax = fig.add_axes([0,0,1,1])\n",
    "ax.axis('equal')\n",
    "ax.pie(y.values, labels = y.index, autopct='%1.2f%%')\n",
    "plt.title('Main category products contribution')\n",
    "plt.show()"
   ]
  },
  {
   "cell_type": "markdown",
   "metadata": {},
   "source": [
    "'Books' category is preferred by the customers."
   ]
  },
  {
   "cell_type": "raw",
   "metadata": {},
   "source": [
    "Q. Which subcategory products are preferred by the customers."
   ]
  },
  {
   "cell_type": "code",
   "execution_count": 47,
   "metadata": {},
   "outputs": [],
   "source": [
    "z = new_df[['prod_subcat']].value_counts()"
   ]
  },
  {
   "cell_type": "code",
   "execution_count": 48,
   "metadata": {
    "scrolled": false
   },
   "outputs": [
    {
     "data": {
      "image/png": "[encoded data removed]",
      "text/plain": [
       "<Figure size 640x480 with 1 Axes>"
      ]
     },
     "metadata": {},
     "output_type": "display_data"
    }
   ],
   "source": [
    "fig = plt.figure()\n",
    "ax = fig.add_axes([0,0,1,1])\n",
    "ax.axis('equal')\n",
    "ax.pie(z.values, labels = z.index, autopct='%1.2f%%')\n",
    "plt.title('Sub category products contribution')\n",
    "plt.show()"
   ]
  },
  {
   "cell_type": "markdown",
   "metadata": {},
   "source": [
    "'Mens','Women' and 'Kids'. These subcategory products got most sold."
   ]
  },
  {
   "cell_type": "raw",
   "metadata": {},
   "source": [
    "Q. Sale varying over time."
   ]
  },
  {
   "cell_type": "code",
   "execution_count": 49,
   "metadata": {},
   "outputs": [],
   "source": [
    "new_df['months'] = pd.DatetimeIndex(new_df['tran_date']).month"
   ]
  },
  {
   "cell_type": "code",
   "execution_count": 50,
   "metadata": {},
   "outputs": [],
   "source": [
    "new_df['quarter'] = pd.DatetimeIndex(new_df['tran_date']).quarter"
   ]
  },
  {
   "cell_type": "code",
   "execution_count": 51,
   "metadata": {},
   "outputs": [],
   "source": [
    "a = new_df[['months','quarter','total_amt']]"
   ]
  },
  {
   "cell_type": "code",
   "execution_count": 52,
   "metadata": {},
   "outputs": [],
   "source": [
    "a = a.groupby('months')['total_amt'].sum()"
   ]
  },
  {
   "cell_type": "code",
   "execution_count": 53,
   "metadata": {},
   "outputs": [
    {
     "data": {
      "text/plain": [
       "Text(0, 0.5, 'Amount')"
      ]
     },
     "execution_count": 53,
     "metadata": {},
     "output_type": "execute_result"
    },
    {
     "data": {
      "image/png": "[encoded data removed]",
      "text/plain": [
       "<Figure size 640x480 with 1 Axes>"
      ]
     },
     "metadata": {},
     "output_type": "display_data"
    }
   ],
   "source": [
    "a.plot.bar(color='green')\n",
    "plt.title('Sale varying over months')\n",
    "plt.ylabel('Amount')"
   ]
  },
  {
   "cell_type": "markdown",
   "metadata": {},
   "source": [
    "This shows in last quarter on year more sale occurs."
   ]
  },
  {
   "cell_type": "raw",
   "metadata": {},
   "source": [
    "Q. Stores preferred by the customers."
   ]
  },
  {
   "cell_type": "code",
   "execution_count": 54,
   "metadata": {
    "scrolled": false
   },
   "outputs": [
    {
     "data": {
      "text/plain": [
       "Text(0.5, 1.0, 'Storetype preferred for shopping')"
      ]
     },
     "execution_count": 54,
     "metadata": {},
     "output_type": "execute_result"
    },
    {
     "data": {
      "image/png": "[encoded data removed]",
      "text/plain": [
       "<Figure size 640x480 with 1 Axes>"
      ]
     },
     "metadata": {},
     "output_type": "display_data"
    }
   ],
   "source": [
    "sns.barplot(x='store_type',y='total_amt',hue='cust_gender',data=new_df,color=\"salmon\")\n",
    "plt.title('Storetype preferred for shopping')"
   ]
  },
  {
   "cell_type": "markdown",
   "metadata": {},
   "source": [
    "This shows on an average, flagship type store is preferred by customer."
   ]
  },
  {
   "cell_type": "raw",
   "metadata": {},
   "source": [
    "Q. Distribution of customer's age"
   ]
  },
  {
   "cell_type": "code",
   "execution_count": 55,
   "metadata": {
    "scrolled": false
   },
   "outputs": [
    {
     "data": {
      "text/plain": [
       "Text(0.5, 1.0, 'Customer age distribution')"
      ]
     },
     "execution_count": 55,
     "metadata": {},
     "output_type": "execute_result"
    },
    {
     "data": {
      "image/png": "[encoded data removed]",
      "text/plain": [
       "<Figure size 640x480 with 1 Axes>"
      ]
     },
     "metadata": {},
     "output_type": "display_data"
    }
   ],
   "source": [
    "plt.hist(new_df['cust_age'],stacked=True, color='orange')\n",
    "plt.title('Customer age distribution')"
   ]
  },
  {
   "cell_type": "markdown",
   "metadata": {},
   "source": [
    "In given dataset, more number of customers have age around 28-30 years, 40 years, 50 years etc."
   ]
  },
  {
   "cell_type": "raw",
   "metadata": {},
   "source": [
    "Q. Peek weekdays"
   ]
  },
  {
   "cell_type": "code",
   "execution_count": 56,
   "metadata": {},
   "outputs": [],
   "source": [
    "new_df['weekday'] = pd.DatetimeIndex(new_df['tran_date']).weekday"
   ]
  },
  {
   "cell_type": "code",
   "execution_count": 57,
   "metadata": {
    "scrolled": false
   },
   "outputs": [
    {
     "data": {
      "text/plain": [
       "Text(0, 0.5, 'Amount')"
      ]
     },
     "execution_count": 57,
     "metadata": {},
     "output_type": "execute_result"
    },
    {
     "data": {
      "image/png": "[encoded data removed]",
      "text/plain": [
       "<Figure size 640x480 with 1 Axes>"
      ]
     },
     "metadata": {},
     "output_type": "display_data"
    }
   ],
   "source": [
    "a = new_df[['weekday','total_amt']]\n",
    "a = a.groupby('weekday')['total_amt'].sum()\n",
    "a.plot.bar(color='blue')\n",
    "plt.title('Peek weekdays')\n",
    "plt.ylabel('Amount')"
   ]
  },
  {
   "cell_type": "markdown",
   "metadata": {},
   "source": [
    "This shows Monday and Saturday are the peek days."
   ]
  },
  {
   "cell_type": "markdown",
   "metadata": {},
   "source": [
    "## Conclusion"
   ]
  },
  {
   "cell_type": "markdown",
   "metadata": {},
   "source": [
    "1. In the given dataset there is no gender bias which means shopping of both the gender is nearly equal\n",
    "\n",
    "2. Products which are having price in range of 100-2000 is sold in more quantity\n",
    "\n",
    "3. No significant impact of customer age on purchase of the product, means amount spent by group of all ages category is nearly equal\n",
    "\n",
    "4. Company should focus on top10 customer(Prime member)\n",
    "\n",
    "5. ‘Books’ and ‘Electronics’ category product sold in more quantity\n",
    "\n",
    "6. ‘Men’, ‘Women’ and ‘Kids’ subcategory products sold in more quantity\n",
    "\n",
    "7. Last quarter of the year is more profitable duration for the company\n",
    "\n",
    "8. Monday and Saturday are peak weekdays for the company\n",
    "\n",
    "9. Men prefers shopping at flagship store and women prefers e-shopping\n",
    "\n",
    "10. Customers having age around 29, 40 and 50 year do shop in more quantity\n"
   ]
  }
 ],
 "metadata": {
  "kernelspec": {
   "display_name": "Python 3",
   "language": "python",
   "name": "python3"
  },
  "language_info": {
   "codemirror_mode": {
    "name": "ipython",
    "version": 3
   },
   "file_extension": ".py",
   "mimetype": "text/x-python",
   "name": "python",
   "nbconvert_exporter": "python",
   "pygments_lexer": "ipython3",
   "version": "3.8.6rc1"
  }
 },
 "nbformat": 4,
 "nbformat_minor": 4
}
